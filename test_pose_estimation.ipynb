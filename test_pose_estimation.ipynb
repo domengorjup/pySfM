{
 "cells": [
  {
   "cell_type": "code",
   "execution_count": 1,
   "metadata": {},
   "outputs": [
    {
     "name": "stdout",
     "output_type": "stream",
     "text": [
      "Using matplotlib backend: Qt5Agg\n"
     ]
    }
   ],
   "source": [
    "import numpy as np\n",
    "import matplotlib.pyplot as plt\n",
    "import cv2\n",
    "import tools\n",
    "from mpl_toolkits.mplot3d import Axes3D\n",
    "import pickle\n",
    "%matplotlib"
   ]
  },
  {
   "cell_type": "markdown",
   "metadata": {},
   "source": [
    "### Kamere"
   ]
  },
  {
   "cell_type": "code",
   "execution_count": 2,
   "metadata": {},
   "outputs": [],
   "source": [
    "N_cams = 3\n",
    "r = 500\n",
    "max_angle = np.pi/3\n",
    "axis = np.array([0, 1, 0], dtype=float)\n",
    "angles = -np.linspace(0, max_angle, N_cams)\n",
    "Cs = np.column_stack((np.cos(-angles-np.pi/2), np.zeros(N_cams), 1+np.sin(-angles-np.pi/2))) * r"
   ]
  },
  {
   "cell_type": "code",
   "execution_count": 3,
   "metadata": {
    "collapsed": true
   },
   "outputs": [],
   "source": [
    "Rs = [cv2.Rodrigues(angle*axis)[0].T for angle in angles]\n",
    "ts = np.array([-np.dot(Rs[i], Cs[i]) for i in range(N_cams)])\n",
    "Ps = [np.column_stack((Rs[i], ts[i])) for i in range(N_cams)]"
   ]
  },
  {
   "cell_type": "code",
   "execution_count": 4,
   "metadata": {},
   "outputs": [],
   "source": [
    "Xs, Ys, Zs = np.array([tools.pos_from_P(P)[:-1, -1] for P in Ps]).T\n",
    "Xd, Yd, Zd = np.column_stack([R[2] for R in Rs])"
   ]
  },
  {
   "cell_type": "code",
   "execution_count": 5,
   "metadata": {
    "collapsed": true
   },
   "outputs": [],
   "source": [
    "R = np.linspace(0, 1., N_cams)\n",
    "G = np.linspace(0.5, 1., N_cams)\n",
    "B = R[::-1]\n",
    "c_colors = np.column_stack((R, G, B))"
   ]
  },
  {
   "cell_type": "code",
   "execution_count": 6,
   "metadata": {},
   "outputs": [],
   "source": [
    "fig = plt.figure()\n",
    "ax = fig.add_subplot(111, projection='3d')\n",
    "\n",
    "ax.quiver(Xs, Ys, Zs, Xd, Yd, Zd, color='C3', length=35, normalize=True, pivot='middle')\n",
    "ax.scatter(Xs, Ys, Zs, c=c_colors, antialiased=False, depthshade=False, edgecolor='k', linewidth=0.01, s=50)\n",
    "ax.set_xlabel('x')\n",
    "ax.set_ylabel('y')\n",
    "ax.set_zlabel('z')\n",
    "ax.set_title('kamere')\n",
    "plt.show()"
   ]
  },
  {
   "cell_type": "markdown",
   "metadata": {},
   "source": [
    "### Točke"
   ]
  },
  {
   "cell_type": "code",
   "execution_count": 7,
   "metadata": {
    "collapsed": true
   },
   "outputs": [],
   "source": [
    "N_points = 50\n",
    "r_t = r//4\n",
    "phi = np.linspace(np.pi/4, 3*np.pi/4, int(N_points**(1/2)))\n",
    "theta = np.linspace(-2*np.pi/4, np.pi/4, int(N_points**(1/2)))\n",
    "\n",
    "kx, ky = np.meshgrid(theta, phi)\n",
    "XX = r_t * np.cos(kx) * np.sin(ky)\n",
    "ZZ = r_t * np.sin(kx) * np.sin(ky)  + r\n",
    "YY = r_t * np.cos(ky)"
   ]
  },
  {
   "cell_type": "code",
   "execution_count": 8,
   "metadata": {},
   "outputs": [],
   "source": [
    "fig = plt.figure()\n",
    "ax = fig.add_subplot(111, projection='3d')\n",
    "\n",
    "ax.quiver(Xs, Ys, Zs, Xd, Yd, Zd, color='C3', length=35, normalize=True, pivot='middle')\n",
    "ax.scatter(Xs, Ys, Zs, c=c_colors, antialiased=False, depthshade=False, edgecolor='k', linewidth=0.01, s=50)\n",
    "\n",
    "ax.scatter(XX, YY, ZZ, c='k', marker='.')\n",
    "\n",
    "ax.set_xlabel('x')\n",
    "ax.set_ylabel('y')\n",
    "ax.set_zlabel('z')\n",
    "ax.set_title('kamere in točke')\n",
    "\n",
    "#bounding box (equal spect ratio)\n",
    "X_max = np.max([Xs.max(), XX.max()])\n",
    "Y_min = np.min([Xs.min(), XX.min()])\n",
    "Y_max = np.max([Ys.max(), YY.max()])\n",
    "X_min = np.min([Ys.min(), YY.min()])\n",
    "Z_max = np.max([Zs.max(), ZZ.max()])\n",
    "Z_min = np.min([Zs.min(), ZZ.min()])\n",
    "\n",
    "max_range = np.array([X_max-X_min, Y_max-Y_min, Z_max-Z_min]).max()\n",
    "Xb = 0.5*max_range*np.mgrid[-1:2:2,-1:2:2,-1:2:2][0].flatten() + 0.5*(X_max+X_min)\n",
    "Yb = 0.5*max_range*np.mgrid[-1:2:2,-1:2:2,-1:2:2][1].flatten() + 0.5*(Y_max+Y_min)\n",
    "Zb = 0.5*max_range*np.mgrid[-1:2:2,-1:2:2,-1:2:2][2].flatten() + 0.5*(Z_max+Z_min)\n",
    "for xb, yb, zb in zip(Xb, Yb, Zb):\n",
    "    ax.plot([xb], [yb], [zb], 'w')\n",
    "\n",
    "plt.show()"
   ]
  },
  {
   "cell_type": "code",
   "execution_count": 9,
   "metadata": {
    "collapsed": true
   },
   "outputs": [],
   "source": [
    "XYZ = np.column_stack((XX.ravel(), YY.ravel(), ZZ.ravel(), np.ones_like(XX.ravel())))"
   ]
  },
  {
   "cell_type": "code",
   "execution_count": 10,
   "metadata": {
    "collapsed": true
   },
   "outputs": [],
   "source": [
    "xyz = [(np.dot(Ps[i], XYZ.T).T[:, :2]).astype(np.float64) for i in range(N_cams)]"
   ]
  },
  {
   "cell_type": "code",
   "execution_count": 11,
   "metadata": {},
   "outputs": [
    {
     "data": {
      "text/plain": [
       "<matplotlib.legend.Legend at 0x21efd628208>"
      ]
     },
     "execution_count": 11,
     "metadata": {},
     "output_type": "execute_result"
    }
   ],
   "source": [
    "plt.figure()\n",
    "for i in range(N_cams):\n",
    "    plt.scatter(xyz[i][:, 0], xyz[i][:,1], c='C{:d}'.format(i), label='{:d}'.format(i))\n",
    "plt.legend(loc=(1.01, 0))"
   ]
  },
  {
   "cell_type": "code",
   "execution_count": 12,
   "metadata": {
    "collapsed": true
   },
   "outputs": [],
   "source": [
    "def get_camera_matrices(p1, p2, K, P1=None, d_max=1, alpha=0.995):\n",
    "    \"\"\"\n",
    "    Camera matrix estimation from known point correspondances.\n",
    "    P = [R|t] ... normalized camera matrix; P1 = [I|0] (H&Z, p. 257)\n",
    "    \"\"\"\n",
    "    \n",
    "    if P1 is None:\n",
    "        P1 = np.column_stack((np.eye(3), np.zeros(3)))\n",
    "    \n",
    "    F, mask = cv2.findFundamentalMat(p1, p2, cv2.FM_RANSAC, d_max, alpha)\n",
    "    \n",
    "    # essential matrix (H&Z, p. 257)\n",
    "    E = K.T.dot(F).dot(K)\n",
    "    U, D, VT = np.linalg.svd(E) # np.linalg.svd -> U, D, V.T\n",
    "\n",
    "    W = np.array([[0, -1, 0],\n",
    "                  [1, 0, 0],\n",
    "                  [0, 0, 1]], dtype=float)\n",
    "    \n",
    "    u3 = U[:, -1]\n",
    "    R1 = U.dot(W).dot(VT)\n",
    "    R2 = U.dot(W.T).dot(VT)\n",
    "    #positive determinants\n",
    "    R1 = R1 * np.sign(np.linalg.det(R1))\n",
    "    R2 = R2 * np.sign(np.linalg.det(R2)) \n",
    "    \n",
    "    # four possibilities for the second camera matrix P2 (H&Z, p. 259)\n",
    "    P1_4 = np.vstack((P1, np.array([0, 0, 0, 1])))\n",
    "    P2_1 = np.column_stack((R1, u3)).dot(P1_4)\n",
    "    P2_2 = np.column_stack((R1, -u3)).dot(P1_4)\n",
    "    P2_3 = np.column_stack((R2, u3)).dot(P1_4)\n",
    "    P2_4 = np.column_stack((R2, -u3)).dot(P1_4)\n",
    "    P2_list = [P2_1, P2_2, P2_3, P2_4]\n",
    "    \n",
    "    # test points to determine if projections are in front of both cameras\n",
    "    tally = np.zeros(4)\n",
    "    for x1, x2 in zip(p1, p2):\n",
    "        for i, P2 in enumerate(P2_list):\n",
    "            X = tools.triangulate_lsq(tools.to_homogenous(x1), tools.to_homogenous(x2), P1, P2)\n",
    "            if tools.in_front(X, P2) and tools.in_front(X, P1):\n",
    "                tally[i] += 1\n",
    "    P2 = P2_list[np.argmax(tally)]\n",
    "    \n",
    "    return P1, P2"
   ]
  },
  {
   "cell_type": "code",
   "execution_count": 13,
   "metadata": {
    "collapsed": true
   },
   "outputs": [],
   "source": [
    "def get_camera_matrices_PnP(p2, K, X, d_max=1, alpha=0.995, RANSAC=True):\n",
    "    \"\"\"\n",
    "    PnP camera estimation using known point correspondances and 3D positions.\n",
    "    P = [R|t] ... normalized camera matrix; P1 = [I|0] (H&Z, p. 257)\n",
    "    \"\"\"\n",
    "    \n",
    "    X = X.astype(np.float64)\n",
    "    p2 = p2.astype(np.float64)\n",
    "    if RANSAC:\n",
    "        retval, rvec, tvec, mask = cv2.solvePnPRansac(X, p2, cameraMatrix=K, distCoeffs=np.zeros(8))\n",
    "    else:\n",
    "        retval, rvec, tvec= cv2.solvePnP(X, p2, cameraMatrix=K, distCoeffs=np.zeros(4))\n",
    "\n",
    "    R2, jac = cv2.Rodrigues(rvec)\n",
    "    R2 = R2 * np.sign(np.linalg.det(R2))\n",
    "    P2 = np.column_stack((R2, tvec))\n",
    "\n",
    "    return P2"
   ]
  },
  {
   "cell_type": "code",
   "execution_count": 14,
   "metadata": {
    "collapsed": true
   },
   "outputs": [],
   "source": [
    "K = np.eye(3)"
   ]
  },
  {
   "cell_type": "markdown",
   "metadata": {},
   "source": [
    "#### F pose estimation"
   ]
  },
  {
   "cell_type": "code",
   "execution_count": 15,
   "metadata": {},
   "outputs": [],
   "source": [
    "P_reconstructed = [np.column_stack((np.eye(3), np.zeros(3)))]\n",
    "for i in range(N_cams - 1):\n",
    "    p1, p2 = xyz[i].astype(np.float64), xyz[i+1].astype(np.float64)\n",
    "    P1, P2 = get_camera_matrices(p1, p2, K)\n",
    "    P_reconstructed.append(P2)"
   ]
  },
  {
   "cell_type": "markdown",
   "metadata": {},
   "source": [
    "#### PnP Pose estimation"
   ]
  },
  {
   "cell_type": "code",
   "execution_count": 16,
   "metadata": {},
   "outputs": [],
   "source": [
    "P_reconstructed_PnP = [np.column_stack((np.eye(3), np.zeros(3)))]\n",
    "for i in range(N_cams - 1):\n",
    "    p2 = xyz[i+1]\n",
    "    P2 = get_camera_matrices_PnP(p2, K, XYZ[:, :-1], RANSAC=True)\n",
    "    P_reconstructed_PnP.append(P2)"
   ]
  },
  {
   "cell_type": "code",
   "execution_count": 17,
   "metadata": {},
   "outputs": [
    {
     "name": "stdout",
     "output_type": "stream",
     "text": [
      "RECONSTRUCTED\n",
      "P0 *********************************************\n",
      "[[ 1.  0.  0.  0.]\n",
      " [ 0.  1.  0.  0.]\n",
      " [ 0.  0.  1.  0.]]\n",
      "\n",
      "P1 *********************************************\n",
      "[[  1.00e+00  -5.49e-16   6.50e-16  -1.00e+00]\n",
      " [  1.40e-16   1.00e+00  -2.22e-16  -1.51e-16]\n",
      " [  1.32e-16   2.78e-16   1.00e+00  -1.31e-16]]\n",
      "\n",
      "P2 *********************************************\n",
      "[[  1.00e+00  -1.17e-16   5.92e-17  -1.00e+00]\n",
      " [  5.11e-17   1.00e+00   7.77e-16  -9.55e-17]\n",
      " [ -1.15e-16  -9.44e-16   1.00e+00   1.12e-16]]\n",
      "\n"
     ]
    }
   ],
   "source": [
    "np.set_printoptions(precision=2)\n",
    "print('RECONSTRUCTED')\n",
    "for i, _ in enumerate(P_reconstructed):\n",
    "    print('P{:d} '.format(i) + '*' * 45)\n",
    "    print(_)\n",
    "    print()"
   ]
  },
  {
   "cell_type": "code",
   "execution_count": 18,
   "metadata": {},
   "outputs": [
    {
     "name": "stdout",
     "output_type": "stream",
     "text": [
      "RECONSTRUCTED (PnP)\n",
      "P0 *********************************************\n",
      "[[ 1.  0.  0.  0.]\n",
      " [ 0.  1.  0.  0.]\n",
      " [ 0.  0.  1.  0.]]\n",
      "\n",
      "P1 *********************************************\n",
      "[[ -1.88e-01  -9.56e-01  -2.27e-01   1.85e+02]\n",
      " [ -6.17e-01   2.95e-01  -7.29e-01   3.47e+02]\n",
      " [  7.64e-01   3.43e-03  -6.45e-01   2.25e+02]]\n",
      "\n",
      "P2 *********************************************\n",
      "[[  7.19e-01   6.39e-02   6.92e-01  -3.66e+02]\n",
      " [ -1.43e-01   9.88e-01   5.73e-02  -2.70e+01]\n",
      " [ -6.80e-01  -1.40e-01   7.19e-01  -2.62e+02]]\n",
      "\n"
     ]
    }
   ],
   "source": [
    "print('RECONSTRUCTED (PnP)')\n",
    "for i, _ in enumerate(P_reconstructed_PnP):\n",
    "    print('P{:d} '.format(i) + '*' * 45)\n",
    "    print(_)\n",
    "    print()"
   ]
  },
  {
   "cell_type": "code",
   "execution_count": 19,
   "metadata": {},
   "outputs": [
    {
     "name": "stdout",
     "output_type": "stream",
     "text": [
      "ACTUAL\n",
      "P0 *********************************************\n",
      "[[  1.00e+00   0.00e+00   0.00e+00  -3.06e-14]\n",
      " [  0.00e+00   1.00e+00   0.00e+00  -0.00e+00]\n",
      " [  0.00e+00   0.00e+00   1.00e+00  -0.00e+00]]\n",
      "\n",
      "P1 *********************************************\n",
      "[[   0.87    0.      0.5  -250.  ]\n",
      " [   0.      1.      0.     -0.  ]\n",
      " [  -0.5     0.      0.87   66.99]]\n",
      "\n",
      "P2 *********************************************\n",
      "[[   0.5     0.      0.87 -433.01]\n",
      " [   0.      1.      0.     -0.  ]\n",
      " [  -0.87    0.      0.5   250.  ]]\n",
      "\n"
     ]
    }
   ],
   "source": [
    "print('ACTUAL')\n",
    "for i, _ in enumerate(Ps):\n",
    "    print('P{:d} '.format(i) + '*' * 45)\n",
    "    print(_)\n",
    "    print()"
   ]
  },
  {
   "cell_type": "code",
   "execution_count": 26,
   "metadata": {
    "collapsed": true
   },
   "outputs": [],
   "source": [
    "P_za_prikaz = P_reconstructed_PnP\n",
    "P_za_prikaz = P_reconstructed"
   ]
  },
  {
   "cell_type": "code",
   "execution_count": 27,
   "metadata": {
    "collapsed": true
   },
   "outputs": [],
   "source": [
    "Xs_r, Ys_r, Zs_r = np.array([tools.pos_from_P(P)[:-1, -1] for P in P_za_prikaz]).T\n",
    "Xd_r, Yd_r, Zd_r = np.array([Rt[2, :-1] for Rt in P_za_prikaz]).T"
   ]
  },
  {
   "cell_type": "code",
   "execution_count": 28,
   "metadata": {},
   "outputs": [],
   "source": [
    "fig = plt.figure()\n",
    "ax = fig.add_subplot(111, projection='3d')\n",
    "\n",
    "ax.quiver(Xs_r, Ys_r, Zs_r, Xd_r, Yd_r, Zd_r, color='C3', length=10, normalize=True, pivot='middle')\n",
    "ax.scatter(Xs_r, Ys_r, Zs_r, c=c_colors, antialiased=False, depthshade=False, edgecolor='k', linewidth=0.01, s=50)\n",
    "ax.scatter(XX, YY, ZZ, c='k', marker='.')\n",
    "\n",
    "ax.set_xlabel('x')\n",
    "ax.set_ylabel('y')\n",
    "ax.set_zlabel('z')\n",
    "ax.set_title('rekonstrukcija')\n",
    "\n",
    "#bounding box (equal spect ratio)\n",
    "X_max = np.max([Xs_r.max(), XX.max()])\n",
    "Y_min = np.min([Xs_r.min(), XX.min()])\n",
    "Y_max = np.max([Ys_r.max(), YY.max()])\n",
    "X_min = np.min([Ys_r.min(), YY.min()])\n",
    "Z_max = np.max([Zs_r.max(), ZZ.max()])\n",
    "Z_min = np.min([Zs_r.min(), ZZ.min()])\n",
    "\n",
    "max_range = np.array([X_max-X_min, Y_max-Y_min, Z_max-Z_min]).max()\n",
    "Xb = 0.5*max_range*np.mgrid[-1:2:2,-1:2:2,-1:2:2][0].flatten() + 0.5*(X_max+X_min)\n",
    "Yb = 0.5*max_range*np.mgrid[-1:2:2,-1:2:2,-1:2:2][1].flatten() + 0.5*(Y_max+Y_min)\n",
    "Zb = 0.5*max_range*np.mgrid[-1:2:2,-1:2:2,-1:2:2][2].flatten() + 0.5*(Z_max+Z_min)\n",
    "for xb, yb, zb in zip(Xb, Yb, Zb):\n",
    "    ax.plot([xb], [yb], [zb], 'w')\n",
    "\n",
    "plt.show()\n",
    "\n",
    "\n",
    "plt.show()"
   ]
  },
  {
   "cell_type": "code",
   "execution_count": 29,
   "metadata": {
    "collapsed": true
   },
   "outputs": [],
   "source": [
    "xyz_r = [(np.dot(P_za_prikaz[i], XYZ.T).T[:, :2]).astype(np.float64) for i in range(N_cams)]"
   ]
  },
  {
   "cell_type": "code",
   "execution_count": 30,
   "metadata": {},
   "outputs": [
    {
     "data": {
      "text/plain": [
       "<matplotlib.legend.Legend at 0x21efe707d68>"
      ]
     },
     "execution_count": 30,
     "metadata": {},
     "output_type": "execute_result"
    }
   ],
   "source": [
    "plt.figure()\n",
    "for i in range(N_cams):\n",
    "    plt.scatter(xyz_r[i][:, 0], xyz[i][:,1], c='C{:d}'.format(i), label='{:d}'.format(i))\n",
    "plt.legend(loc=(1.01, 0))"
   ]
  },
  {
   "cell_type": "markdown",
   "metadata": {},
   "source": [
    "-----------"
   ]
  },
  {
   "cell_type": "code",
   "execution_count": null,
   "metadata": {},
   "outputs": [],
   "source": [
    "#test_cloud = pickle.load(open('results\\scene_dinoRing_cameradirtest_28-08-15-40.pkl', 'rb'))\n",
    "#test_cloud = pickle.load(open('results\\kip\\scene__outliers_removed_kip_pairwise_X_only_PnP_sequential_final_BA_10-08-13-50_25-08-13-03.pkl', 'rb'))\n",
    "#XYZ = test_cloud.render(cameras=True, q_length=1)"
   ]
  },
  {
   "cell_type": "code",
   "execution_count": null,
   "metadata": {
    "collapsed": true
   },
   "outputs": [],
   "source": []
  }
 ],
 "metadata": {
  "kernelspec": {
   "display_name": "Python 3",
   "language": "python",
   "name": "python3"
  },
  "language_info": {
   "codemirror_mode": {
    "name": "ipython",
    "version": 3
   },
   "file_extension": ".py",
   "mimetype": "text/x-python",
   "name": "python",
   "nbconvert_exporter": "python",
   "pygments_lexer": "ipython3",
   "version": "3.6.1"
  }
 },
 "nbformat": 4,
 "nbformat_minor": 2
}
