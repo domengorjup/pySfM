{
 "cells": [
  {
   "cell_type": "code",
   "execution_count": null,
   "metadata": {
    "collapsed": true
   },
   "outputs": [],
   "source": [
    "import os\n",
    "import glob\n",
    "import cv2\n",
    "import time\n",
    "import numpy as np\n",
    "import matplotlib.pyplot as plt\n",
    "from mpl_toolkits.mplot3d import Axes3D\n",
    "from tqdm import tqdm, tqdm_notebook\n",
    "import tools\n",
    "%matplotlib notebook"
   ]
  },
  {
   "cell_type": "markdown",
   "metadata": {},
   "source": [
    "### komentarji:\n",
    "    \n",
    "    - omejitev števila točk (urejeno glede na \"moč\" ujemanja)\n",
    "    - log napak projekcije\n",
    "    - boljša triangulacija!\n",
    "    - unikaten identifier vsake matrike ``[R|t]`` (da niso naslavljane po indeksu)"
   ]
  },
  {
   "cell_type": "code",
   "execution_count": null,
   "metadata": {
    "collapsed": true
   },
   "outputs": [],
   "source": [
    "SCALE = 0.2\n",
    "MATCH_RATIO = 0.85  # more -> LESS matches rejected\n",
    "NFEV = 10000         # maximum number of least_squares iterations\n",
    "MODE = 'ORB'        # feature extraction algorithm"
   ]
  },
  {
   "cell_type": "code",
   "execution_count": null,
   "metadata": {
    "collapsed": true
   },
   "outputs": [],
   "source": [
    "d_max = 1       # (for RANSAC) maximum distance from epipolar line above which a point is considered an outlier\n",
    "alpha = 0.995   # (RANSAC) desired probability, that the estimated F matrix is correct"
   ]
  },
  {
   "cell_type": "code",
   "execution_count": null,
   "metadata": {
    "collapsed": true
   },
   "outputs": [],
   "source": [
    "path = 'images/kip'\n",
    "path_calib = 'kalibracija/redmi'\n",
    "images = glob.glob(os.path.join(path, '*.JPG'))[1:-1]\n",
    "calibration_images = glob.glob(os.path.join(path_calib, '*.JPG'))"
   ]
  },
  {
   "cell_type": "markdown",
   "metadata": {
    "collapsed": true
   },
   "source": [
    "### main loop"
   ]
  },
  {
   "cell_type": "code",
   "execution_count": null,
   "metadata": {
    "collapsed": true
   },
   "outputs": [],
   "source": [
    "beginning_time = time.perf_counter()"
   ]
  },
  {
   "cell_type": "code",
   "execution_count": null,
   "metadata": {
    "collapsed": true
   },
   "outputs": [],
   "source": [
    "scene = {}\n",
    "K, distCoeffs = tools.calibrate_camera(calibration_images, (6, 4), (40, 40), scale=0.5)\n",
    "N = len(images)"
   ]
  },
  {
   "cell_type": "code",
   "execution_count": null,
   "metadata": {
    "collapsed": true
   },
   "outputs": [],
   "source": [
    "after_calibration = time.perf_counter()"
   ]
  },
  {
   "cell_type": "code",
   "execution_count": null,
   "metadata": {
    "scrolled": true
   },
   "outputs": [],
   "source": [
    "plot = False\n",
    "%matplotlib inline\n",
    "\n",
    "for i in tqdm_notebook(range(N - 1)):\n",
    "    \n",
    "    if i == 0:\n",
    "        last_Rt = None\n",
    "        im1 = tools.read_bw(images[i])\n",
    "        im2 = tools.read_bw(images[i+1])\n",
    "        Rt1, Rt2, p1, p2 = tools.get_camera_matrices(im1, im2, K, last_Rt, d_max=d_max, alpha=alpha,\n",
    "                                           scale=SCALE, match_ratio=MATCH_RATIO, mode=MODE)\n",
    "    else:\n",
    "        im1 = im2\n",
    "        im2 = tools.read_bw(images[i+1])\n",
    "        Rt1, Rt2, p1, p2 = tools.get_camera_matrices(im1, im2, K, last_Rt,# cloud, i, distCoeffs, \n",
    "                                            d_max=d_max, alpha=alpha, scale=SCALE, match_ratio=MATCH_RATIO, mode=MODE)\n",
    "\n",
    "    last_Rt = Rt2\n",
    "    P1 = K.dot(Rt1)\n",
    "    P2 = K.dot(Rt2)\n",
    "    \n",
    "    points3D = []\n",
    "    for x1, x2 in zip(p1, p2):\n",
    "        X = tools.triangulate_lsq(tools.to_homogenous(x1), tools.to_homogenous(x2), P1, P2)\n",
    "        points3D.append(tools.Point3D(X, x1, x2, i, i+1))\n",
    "    \n",
    "    if i == 0:\n",
    "        cloud = tools.Scene([Rt1, Rt2], points3D, K, im1.shape, debug=True)\n",
    "        cloud.bundle_adjustment(ftol=1e-8, max_nfev=NFEV, max_sd_dist=2, X_only=False)\n",
    "    else:\n",
    "        pair = tools.Scene([Rt1, Rt2], points3D, K, im1.shape, frame_offset=i, debug=True)\n",
    "        pair.bundle_adjustment(ftol=1e-8, max_nfev=NFEV, max_sd_dist=2, X_only=False)\n",
    "        cloud.add_next_pair(pair)\n",
    "        \n",
    "#         # Sequential bundle adjustment\n",
    "#         print('\\n--- seqential BA, image pair {:d} ---'.format(i))\n",
    "#         cloud.bundle_adjustment(ftol=1e-6, max_nfev=NFEV, max_sd_dist=2, X_only=False)\n",
    "        \n",
    "    if plot:# and i % (N//2) == 0:\n",
    "        print('---- slika {:d} ----\\n'.format((i+1)))\n",
    "        cloud.render()\n",
    "        \n",
    "        fig, ax = plt.subplots(1, 2, figsize=(10, 3))\n",
    "        ax[0].imshow(im1, cmap='gray')\n",
    "        ax[0].scatter(p1[:, 0], p1[:, 1])\n",
    "        ax[1].imshow(im2, cmap='gray')\n",
    "        ax[1].scatter(p2[:, 0], p2[:, 1])\n",
    "        plt.show()"
   ]
  },
  {
   "cell_type": "code",
   "execution_count": null,
   "metadata": {
    "collapsed": true
   },
   "outputs": [],
   "source": [
    "main_loop_time = time.perf_counter()"
   ]
  },
  {
   "cell_type": "code",
   "execution_count": null,
   "metadata": {
    "collapsed": true,
    "scrolled": true
   },
   "outputs": [],
   "source": [
    "#X, Y, Z = cloud.render()"
   ]
  },
  {
   "cell_type": "code",
   "execution_count": null,
   "metadata": {
    "collapsed": true,
    "scrolled": false
   },
   "outputs": [],
   "source": [
    "%matplotlib\n",
    "X, Y, Z = cloud.render(cameras=True)"
   ]
  },
  {
   "cell_type": "code",
   "execution_count": null,
   "metadata": {
    "collapsed": true
   },
   "outputs": [],
   "source": [
    "#cloud.bundle_adjustment(ftol=1e-5, max_nfev=5000)\n",
    "X, Y, Z = cloud.render(cameras=True, openGL=True)"
   ]
  },
  {
   "cell_type": "code",
   "execution_count": null,
   "metadata": {
    "collapsed": true
   },
   "outputs": [],
   "source": [
    "end_time = time.perf_counter()"
   ]
  },
  {
   "cell_type": "code",
   "execution_count": null,
   "metadata": {
    "collapsed": true
   },
   "outputs": [],
   "source": [
    "total = end_time - beginning_time \n",
    "calibration = after_calibration - beginning_time\n",
    "loop = main_loop_time - after_calibration\n",
    "ba = end_time - main_loop_time\n",
    "print('total time:\\t{:.0f} min {:.1f} s'.format(total // 60, total % 60))\n",
    "print('calib. time:\\t{:.0f} min {:.1f} s'.format(loop // 60, calibration % 60))\n",
    "print('loop time:\\t{:.0f} min {:.1f} s'.format(loop // 60, loop % 60))\n",
    "print('ba time:\\t{:.0f} min {:.1f} s'.format(ba // 60, ba % 60))"
   ]
  },
  {
   "cell_type": "code",
   "execution_count": null,
   "metadata": {
    "collapsed": true
   },
   "outputs": [],
   "source": [
    "name = path.replace('/', '_').replace('\\\\', 'n')\n",
    "name += '_sequential_final_BA'\n",
    "#cloud.pickle_save(name=name, path='results', mode='scene')"
   ]
  },
  {
   "cell_type": "code",
   "execution_count": null,
   "metadata": {
    "collapsed": true
   },
   "outputs": [],
   "source": [
    "#cloud.render(openGL=True, cameras=True)"
   ]
  }
 ],
 "metadata": {
  "kernelspec": {
   "display_name": "Python 3",
   "language": "python",
   "name": "python3"
  },
  "language_info": {
   "codemirror_mode": {
    "name": "ipython",
    "version": 3
   },
   "file_extension": ".py",
   "mimetype": "text/x-python",
   "name": "python",
   "nbconvert_exporter": "python",
   "pygments_lexer": "ipython3",
   "version": "3.6.1"
  }
 },
 "nbformat": 4,
 "nbformat_minor": 2
}
